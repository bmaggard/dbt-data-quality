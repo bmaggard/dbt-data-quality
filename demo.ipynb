{
 "cells": [
  {
   "cell_type": "markdown",
   "id": "32869768-a9ce-4150-bbf7-786132f5b46d",
   "metadata": {},
   "source": [
    "# Read data"
   ]
  },
  {
   "cell_type": "code",
   "execution_count": null,
   "id": "de371db4-4758-49e1-a84b-0c822e1605de",
   "metadata": {},
   "outputs": [],
   "source": [
    "import pandas as pd\n",
    "from ydata_profiling import ProfileReport"
   ]
  },
  {
   "cell_type": "code",
   "execution_count": null,
   "id": "2723c947-e46e-4883-8546-f39595f295f4",
   "metadata": {},
   "outputs": [],
   "source": [
    "!ls seeds"
   ]
  },
  {
   "cell_type": "code",
   "execution_count": null,
   "id": "bcf4ee5e-c3c3-4c6b-8e86-a05b13865a9c",
   "metadata": {},
   "outputs": [],
   "source": [
    "customers = pd.read_csv(\"seeds/raw_customers.csv\")\n",
    "customers.head()"
   ]
  },
  {
   "cell_type": "code",
   "execution_count": null,
   "id": "bcd35a54-e0ff-459a-9508-8a7be9c05b36",
   "metadata": {},
   "outputs": [],
   "source": [
    "orders = pd.read_csv(\"seeds/raw_orders.csv\")\n",
    "orders.head()"
   ]
  },
  {
   "cell_type": "code",
   "execution_count": null,
   "id": "57e10fed-cbec-4a14-a7ee-f39d29afa85a",
   "metadata": {},
   "outputs": [],
   "source": [
    "payments = pd.read_csv(\"seeds/raw_payments.csv\")\n",
    "payments.head()"
   ]
  },
  {
   "cell_type": "markdown",
   "id": "8c8997f7-bd70-4d2a-a432-e2d5bafc5691",
   "metadata": {},
   "source": [
    "# Profiling reports"
   ]
  },
  {
   "cell_type": "code",
   "execution_count": null,
   "id": "acdc4df2-cac0-4766-b426-870c7d67637e",
   "metadata": {},
   "outputs": [],
   "source": [
    "orders_profile = ProfileReport(orders, title=\"Payments Profiling Report\")"
   ]
  },
  {
   "cell_type": "code",
   "execution_count": null,
   "id": "1bd7286d-caff-41d0-864c-a4522bf31729",
   "metadata": {
    "scrolled": true
   },
   "outputs": [],
   "source": [
    "orders_profile.to_notebook_iframe()"
   ]
  },
  {
   "cell_type": "code",
   "execution_count": null,
   "id": "afc662a3-f727-42b3-9c89-6a9ee830ca6f",
   "metadata": {},
   "outputs": [],
   "source": [
    "payments_profile = ProfileReport(payments, title=\"Payments Profiling Report\")"
   ]
  },
  {
   "cell_type": "code",
   "execution_count": null,
   "id": "92084a27-eb43-491e-806c-c7f0e45e54d6",
   "metadata": {
    "scrolled": true
   },
   "outputs": [],
   "source": [
    "payments_profile.to_notebook_iframe()"
   ]
  },
  {
   "cell_type": "markdown",
   "id": "888494aa-81df-4c71-a32f-078b3ff1b110",
   "metadata": {},
   "source": [
    "# dbt"
   ]
  },
  {
   "cell_type": "markdown",
   "id": "bd7b2a11-80b8-4fdc-b791-b08d8252108d",
   "metadata": {},
   "source": [
    "Setup"
   ]
  },
  {
   "cell_type": "code",
   "execution_count": null,
   "id": "12ff5dcd-9bc5-4545-970e-fd9847b28d22",
   "metadata": {},
   "outputs": [],
   "source": [
    "!dbt seed"
   ]
  },
  {
   "cell_type": "code",
   "execution_count": null,
   "id": "46ba162a-b06c-445e-a8e0-8049ab8f1f44",
   "metadata": {},
   "outputs": [],
   "source": [
    "!dbt run"
   ]
  },
  {
   "cell_type": "markdown",
   "id": "094dc7e3-702c-468c-8bd1-f2ff1ab10203",
   "metadata": {},
   "source": [
    "Successful singular test"
   ]
  },
  {
   "cell_type": "code",
   "execution_count": null,
   "id": "231368fc-0f85-479f-bdb8-40e884f2399b",
   "metadata": {
    "scrolled": true
   },
   "outputs": [],
   "source": [
    "!dbt test --select test_type:singular"
   ]
  },
  {
   "cell_type": "markdown",
   "id": "00fac33a-4614-48cd-bb88-1aa4cfa24556",
   "metadata": {},
   "source": [
    "Run all available tests"
   ]
  },
  {
   "cell_type": "code",
   "execution_count": null,
   "id": "1e733433-2e18-454e-b7b0-d3c25f4d9fdd",
   "metadata": {},
   "outputs": [],
   "source": [
    "!dbt test"
   ]
  },
  {
   "cell_type": "markdown",
   "id": "4fe352e0-f60c-4d9b-bbf1-03537a007d93",
   "metadata": {},
   "source": [
    "Run tests for `customers` model that includes a test from `dbt_utils`"
   ]
  },
  {
   "cell_type": "code",
   "execution_count": null,
   "id": "d523dedf-e236-4373-b7c1-9a0f5412b38e",
   "metadata": {},
   "outputs": [],
   "source": [
    "!dbt test --select customers"
   ]
  },
  {
   "cell_type": "markdown",
   "id": "c5ba7c31-36f0-41ad-a215-16c5ef7fd235",
   "metadata": {},
   "source": [
    "Check failing rows from `customers` model test"
   ]
  },
  {
   "cell_type": "code",
   "execution_count": null,
   "id": "e72d6626-13ab-40eb-89e8-ce0ee4380e5f",
   "metadata": {},
   "outputs": [],
   "source": [
    "!dbt test --select customers --store-failures"
   ]
  },
  {
   "cell_type": "markdown",
   "id": "7249ee7b-058d-411b-86c3-66a3fb318d82",
   "metadata": {},
   "source": [
    "Run tests for `stg_customers` that includes a test from `dbt_expectations`"
   ]
  },
  {
   "cell_type": "code",
   "execution_count": null,
   "id": "3ce1e8c0-136f-4a91-b55f-f469c101c52a",
   "metadata": {},
   "outputs": [],
   "source": [
    "!dbt test --select stg_customers"
   ]
  },
  {
   "cell_type": "markdown",
   "id": "b29e77e4-26ad-44ce-873f-707fef3d9d22",
   "metadata": {},
   "source": [
    "Check failing rows from `stg_customers` model test"
   ]
  },
  {
   "cell_type": "code",
   "execution_count": null,
   "id": "400de1a7-2e74-4541-bbe5-4634eff57b4b",
   "metadata": {},
   "outputs": [],
   "source": [
    "!dbt test --select stg_customers --store-failures"
   ]
  }
 ],
 "metadata": {
  "kernelspec": {
   "display_name": "Python 3 (ipykernel)",
   "language": "python",
   "name": "python3"
  },
  "language_info": {
   "codemirror_mode": {
    "name": "ipython",
    "version": 3
   },
   "file_extension": ".py",
   "mimetype": "text/x-python",
   "name": "python",
   "nbconvert_exporter": "python",
   "pygments_lexer": "ipython3",
   "version": "3.9.18"
  }
 },
 "nbformat": 4,
 "nbformat_minor": 5
}
